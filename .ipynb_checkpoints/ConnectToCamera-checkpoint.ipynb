{
 "cells": [
  {
   "cell_type": "markdown",
   "metadata": {},
   "source": [
    "To run:\n",
    "1. On the camera start the Smart Remote Control (https://www.playmemoriescameraapps.com/portal/usbdetail.php?eid=is9104-npia09014_00-f00002) application\n",
    "2. Connect your computer to the WiFi hotspot created by the camera; after this step the application's screen should change to a loading icon with the text 'Connecting' underneath it\n",
    "3. Run this Notebook\n",
    "\n",
    "# Import necessary libraries"
   ]
  },
  {
   "cell_type": "code",
   "execution_count": 1,
   "metadata": {
    "ExecuteTime": {
     "end_time": "2021-01-03T18:35:08.004645Z",
     "start_time": "2021-01-03T18:35:07.947107Z"
    }
   },
   "outputs": [],
   "source": [
    "import requests, xmltodict, json\n",
    "\n",
    "from PIL import Image\n",
    "import requests\n",
    "from io import BytesIO\n",
    "\n",
    "import time"
   ]
  },
  {
   "cell_type": "markdown",
   "metadata": {},
   "source": [
    "# Camera Initialisation\n",
    "\n",
    "## Connect to camera to get model and UUID\n",
    "**Note: your camera might have a different ip; after you connect your computer to the camera's WiFi network, look what IP address you have (ex: in Ubuntu run the command 'ip a'). The camera should have the same address but with the last group of digits replaced with a 1. Example: after connecting to the camera you were assigned the ip 192.168.132.143, the camera's ip probably is 192.168.132.1; some cameras might use a different location for the api xml, in this case you will have to scan for open ports (ex: nmap -sT -p0-65535 [camera ip]) and look for the XML perform an M-SEARCH request (see MSEARCH.py)"
   ]
  },
  {
   "cell_type": "code",
   "execution_count": 2,
   "metadata": {
    "ExecuteTime": {
     "end_time": "2021-01-03T18:35:08.174470Z",
     "start_time": "2021-01-03T18:35:08.151068Z"
    }
   },
   "outputs": [
    {
     "name": "stdout",
     "output_type": "stream",
     "text": [
      "deviceType: urn:schemas-upnp-org:device:Basic:1\n",
      "friendlyName: NEX-5T-Dumi\n",
      "UDN: uuid:000000001000-1010-8000-7A4B8739984F\n"
     ]
    }
   ],
   "source": [
    "r = requests.get('http://192.168.122.1:61000/scalarwebapi_dd.xml')\n",
    "data = xmltodict.parse(r.text)\n",
    "attributes = ['deviceType', 'friendlyName', 'UDN']\n",
    "\n",
    "for a in attributes:\n",
    "    print(f'{a}: {data[\"root\"][\"device\"][a]}')"
   ]
  },
  {
   "cell_type": "markdown",
   "metadata": {},
   "source": [
    "Get API version"
   ]
  },
  {
   "cell_type": "code",
   "execution_count": 3,
   "metadata": {
    "ExecuteTime": {
     "end_time": "2021-01-03T18:35:09.077255Z",
     "start_time": "2021-01-03T18:35:08.950271Z"
    }
   },
   "outputs": [
    {
     "name": "stdout",
     "output_type": "stream",
     "text": [
      "{'id': 1, 'result': [['1.0']]}\n"
     ]
    }
   ],
   "source": [
    "r = requests.post('http://192.168.122.1:8080/sony/camera', json=json.loads('{\"method\":\"getVersions\",\"params\":[],\"id\":1,\"version\":\"1.0\"}'))\n",
    "print(json.loads(r.text))"
   ]
  },
  {
   "cell_type": "markdown",
   "metadata": {},
   "source": [
    "Get application version"
   ]
  },
  {
   "cell_type": "code",
   "execution_count": 4,
   "metadata": {
    "ExecuteTime": {
     "end_time": "2021-01-03T18:35:09.757545Z",
     "start_time": "2021-01-03T18:35:09.605879Z"
    }
   },
   "outputs": [
    {
     "name": "stdout",
     "output_type": "stream",
     "text": [
      "{'id': 2, 'result': ['Smart Remote Control', '1.1.0']}\n"
     ]
    }
   ],
   "source": [
    "r = requests.post('http://192.168.122.1:8080/sony/camera', json=json.loads('{\"method\":\"getApplicationInfo\",\"params\":[],\"id\":2,\"version\":\"1.0\"}'))\n",
    "print(json.loads(r.text))"
   ]
  },
  {
   "cell_type": "markdown",
   "metadata": {},
   "source": [
    "Get supported methods and their signatures"
   ]
  },
  {
   "cell_type": "code",
   "execution_count": 5,
   "metadata": {
    "ExecuteTime": {
     "end_time": "2021-01-03T18:35:10.825647Z",
     "start_time": "2021-01-03T18:35:10.401232Z"
    },
    "scrolled": true
   },
   "outputs": [
    {
     "name": "stdout",
     "output_type": "stream",
     "text": [
      "['getVersions', [], ['string*'], '1.0']\n",
      "['getMethodTypes', ['string'], ['string', 'string*', 'string*'], '1.0']\n",
      "['getApplicationInfo', [], ['string', 'string'], '1.0']\n",
      "['actTakePicture', [], ['string*'], '1.0']\n",
      "['awaitTakePicture', [], ['string*'], '1.0']\n",
      "['startRecMode', [], ['int'], '1.0']\n",
      "['stopRecMode', [], ['int'], '1.0']\n",
      "['startLiveview', [], ['int'], '1.0']\n",
      "['stopLiveview', [], ['int'], '1.0']\n",
      "['getAvailableApiList', [], ['string*'], '1.0']\n",
      "['setExposureCompensation', ['int'], ['int'], '1.0']\n",
      "['getExposureCompensation', [], ['int'], '1.0']\n",
      "['getSupportedExposureCompensation', [], ['int*', 'int*', 'int*'], '1.0']\n",
      "['getAvailableExposureCompensation', [], ['int', 'int', 'int'], '1.0']\n",
      "['setSelfTimer', ['int'], ['int'], '1.0']\n",
      "['getSelfTimer', [], ['int'], '1.0']\n",
      "['getSupportedSelfTimer', [], ['int*'], '1.0']\n",
      "['getAvailableSelfTimer', [], ['int*'], '1.0']\n",
      "['receiveEvent', ['bool'], ['string', 'bool', 'int', 'int', 'int', 'int', 'string*', 'string*', 'bool*', 'string*', 'string*'], '1.0']\n"
     ]
    }
   ],
   "source": [
    "r = requests.post('http://192.168.122.1:8080/sony/camera', json=json.loads('{\"method\":\"getMethodTypes\",\"params\":[\"1.0\"],\"id\":3,\"version\":\"1.0\"}'))\n",
    "for m in json.loads(r.text)['results']:\n",
    "    print(f'{m}')"
   ]
  },
  {
   "cell_type": "markdown",
   "metadata": {},
   "source": [
    "# Start the recording / remote control mode\n",
    "Start the recording mode. After you run this cell the camera should display a live view on its backscreen. \n",
    "\n",
    "If you want to **stop** the cording mode run:\n",
    "\n",
    "r = requests.post('http://192.168.122.1:8080/sony/camera', json=json.loads('{\"method\":\"stopRecMode\",\"params\":[],\"id\":4,\"version\":\"1.0\"}'))\n",
    "print(json.loads(r.text))"
   ]
  },
  {
   "cell_type": "code",
   "execution_count": 6,
   "metadata": {
    "ExecuteTime": {
     "end_time": "2021-01-03T18:35:17.293221Z",
     "start_time": "2021-01-03T18:35:16.378250Z"
    }
   },
   "outputs": [
    {
     "name": "stdout",
     "output_type": "stream",
     "text": [
      "{'id': 4, 'result': [0]}\n"
     ]
    }
   ],
   "source": [
    "r = requests.post('http://192.168.122.1:8080/sony/camera', json=json.loads('{\"method\":\"startRecMode\",\"params\":[],\"id\":4,\"version\":\"1.0\"}'))\n",
    "print(json.loads(r.text))"
   ]
  },
  {
   "cell_type": "markdown",
   "metadata": {},
   "source": [
    "List all available APIs"
   ]
  },
  {
   "cell_type": "code",
   "execution_count": 7,
   "metadata": {
    "ExecuteTime": {
     "end_time": "2021-01-03T18:35:17.802216Z",
     "start_time": "2021-01-03T18:35:17.297433Z"
    }
   },
   "outputs": [
    {
     "name": "stdout",
     "output_type": "stream",
     "text": [
      "getMethodTypes\n",
      "getVersions\n",
      "getApplicationInfo\n",
      "getAvailableApiList\n",
      "receiveEvent\n",
      "startRecMode\n",
      "stopRecMode\n",
      "startLiveview\n",
      "stopLiveview\n"
     ]
    }
   ],
   "source": [
    "r = requests.post('http://192.168.122.1:8080/sony/camera', json=json.loads('{\"method\":\"getAvailableApiList\",\"params\":[],\"id\":5,\"version\":\"1.0\"}'))\n",
    "for m in json.loads(r.text)['result'][0]:\n",
    "    print(m)"
   ]
  },
  {
   "cell_type": "markdown",
   "metadata": {},
   "source": []
  },
  {
   "cell_type": "markdown",
   "metadata": {},
   "source": [
    "## Start the liveview\n",
    "This returns an API endpoint which will provide a stream showing a liveview of the camera\n",
    "\n",
    "In order to stop the stream run:\n",
    "r = requests.post('http://192.168.122.1:8080/sony/camera', json=json.loads('{\"method\":\"stopLiveview\",\"params\":[],\"id\":6,\"version\":\"1.0\"}'))"
   ]
  },
  {
   "cell_type": "code",
   "execution_count": 8,
   "metadata": {
    "ExecuteTime": {
     "end_time": "2021-01-03T18:35:35.109688Z",
     "start_time": "2021-01-03T18:35:34.896773Z"
    }
   },
   "outputs": [
    {
     "name": "stdout",
     "output_type": "stream",
     "text": [
      "{'id': 6, 'result': ['http://192.168.122.1:8080/liveview/liveview.jpg']}\n"
     ]
    }
   ],
   "source": [
    "r = requests.post('http://192.168.122.1:8080/sony/camera', json=json.loads('{\"method\":\"startLiveview\",\"params\":[],\"id\":6,\"version\":\"1.0\"}'))\n",
    "print(json.loads(r.text))"
   ]
  },
  {
   "cell_type": "markdown",
   "metadata": {},
   "source": [
    "# Take a picture\n",
    "\n",
    "When called the API endpoint will take a stillshot, and return the image as raw data; we decode and display the data using Pillow"
   ]
  },
  {
   "cell_type": "code",
   "execution_count": 9,
   "metadata": {
    "ExecuteTime": {
     "end_time": "2021-01-03T18:36:21.530490Z",
     "start_time": "2021-01-03T18:36:15.726605Z"
    },
    "scrolled": false
   },
   "outputs": [
    {
     "name": "stdout",
     "output_type": "stream",
     "text": [
      "Request time: 5.057635545730591s\n",
      "{'id': 7, 'result': [['http://192.168.122.1:8080/postview/pict20210103_213924_0.JPG']]}\n"
     ]
    }
   ],
   "source": [
    "a = time.time()\n",
    "r = requests.post('http://192.168.122.1:8080/sony/camera', json=json.loads('{\"method\":\"actTakePicture\",\"params\":[],\"id\":7,\"version\":\"1.0\"}'))\n",
    "b = time.time()\n",
    "print(f'Request time: {b-a}s')\n",
    "\n",
    "print(json.loads(r.text))\n",
    "pic_url = json.loads(r.text)['result'][0][0]\n",
    "\n",
    "response = requests.get(pic_url)\n",
    "img = Image.open(BytesIO(response.content))\n",
    "print(f'Image size: {img.size}')\n",
    "img"
   ]
  },
  {
   "cell_type": "markdown",
   "metadata": {},
   "source": [
    "# View the liveview\n",
    "\n",
    "The liveview is just a sequence of JPEG images; we read 1024 bytes of data and look for the JPEG file start and file end signatures; the images are displayed as soon as they are available"
   ]
  },
  {
   "cell_type": "code",
   "execution_count": 1,
   "metadata": {
    "ExecuteTime": {
     "end_time": "2021-01-03T20:36:07.986015Z",
     "start_time": "2021-01-03T20:36:07.977646Z"
    },
    "scrolled": true
   },
   "outputs": [],
   "source": [
    "import urllib\n",
    "from PIL import Image\n",
    "import io"
   ]
  },
  {
   "cell_type": "code",
   "execution_count": null,
   "metadata": {
    "ExecuteTime": {
     "end_time": "2020-12-25T15:10:58.405567Z",
     "start_time": "2020-12-25T15:04:33.186034Z"
    }
   },
   "outputs": [],
   "source": [
    "stream = urllib.request.urlopen('http://192.168.122.1:8080/liveview/liveview.jpg')\n",
    "\n",
    "bytes_received = b''\n",
    "while True:\n",
    "    bytes_received += stream.read(1024)\n",
    "    a = bytes_received.find(b'\\xff\\xd8\\xff', 0)\n",
    "    b = bytes_received.find(b'\\xff\\xd9', a+3)\n",
    "    if a != -1 and b != -1:\n",
    "        jpg = bytes_received[a:b+2]\n",
    "        bytes_received = bytes_received[b+2:]\n",
    "        img = Image.open(io.BytesIO(jpg))\n",
    "        display(img)"
   ]
  },
  {
   "cell_type": "code",
   "execution_count": null,
   "metadata": {},
   "outputs": [],
   "source": []
  }
 ],
 "metadata": {
  "kernelspec": {
   "display_name": "Python 3",
   "language": "python",
   "name": "python3"
  },
  "language_info": {
   "codemirror_mode": {
    "name": "ipython",
    "version": 3
   },
   "file_extension": ".py",
   "mimetype": "text/x-python",
   "name": "python",
   "nbconvert_exporter": "python",
   "pygments_lexer": "ipython3",
   "version": "3.7.7"
  },
  "toc": {
   "base_numbering": 1,
   "nav_menu": {},
   "number_sections": true,
   "sideBar": true,
   "skip_h1_title": false,
   "title_cell": "Table of Contents",
   "title_sidebar": "Contents",
   "toc_cell": false,
   "toc_position": {},
   "toc_section_display": true,
   "toc_window_display": false
  }
 },
 "nbformat": 4,
 "nbformat_minor": 2
}
